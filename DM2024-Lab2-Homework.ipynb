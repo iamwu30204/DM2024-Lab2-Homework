{
 "cells": [
  {
   "cell_type": "code",
   "execution_count": 1,
   "id": "d9f46dba",
   "metadata": {
    "_cell_guid": "b1076dfc-b9ad-4769-8c92-a6c4dae69d19",
    "_uuid": "8f2839f25d086af736a60e9eeb907d3b93b6e0e5",
    "execution": {
     "iopub.execute_input": "2024-12-04T08:13:57.194371Z",
     "iopub.status.busy": "2024-12-04T08:13:57.193733Z",
     "iopub.status.idle": "2024-12-04T08:13:59.982057Z",
     "shell.execute_reply": "2024-12-04T08:13:59.981260Z"
    },
    "papermill": {
     "duration": 2.795755,
     "end_time": "2024-12-04T08:13:59.984258",
     "exception": false,
     "start_time": "2024-12-04T08:13:57.188503",
     "status": "completed"
    },
    "tags": []
   },
   "outputs": [],
   "source": [
    "import json\n",
    "import pandas as pd\n",
    "import numpy as np\n",
    "import nltk\n",
    "import matplotlib.pyplot as plt\n",
    "from collections import Counter\n",
    "\n",
    "from sklearn.feature_extraction.text import TfidfVectorizer\n",
    "from sklearn.model_selection import train_test_split\n",
    "from sklearn.preprocessing import LabelEncoder\n",
    "from sklearn.linear_model import LogisticRegression\n",
    "from sklearn.ensemble import RandomForestClassifier\n",
    "from sklearn.metrics import classification_report\n",
    "from sklearn.metrics import accuracy_score"
   ]
  },
  {
   "cell_type": "code",
   "execution_count": 2,
   "id": "43f42213",
   "metadata": {
    "execution": {
     "iopub.execute_input": "2024-12-04T08:13:59.991870Z",
     "iopub.status.busy": "2024-12-04T08:13:59.991384Z",
     "iopub.status.idle": "2024-12-04T08:14:31.747965Z",
     "shell.execute_reply": "2024-12-04T08:14:31.746930Z"
    },
    "papermill": {
     "duration": 31.762833,
     "end_time": "2024-12-04T08:14:31.750334",
     "exception": false,
     "start_time": "2024-12-04T08:13:59.987501",
     "status": "completed"
    },
    "tags": []
   },
   "outputs": [],
   "source": [
    "# Load data\n",
    "data = []\n",
    "with open('/kaggle/input/dm-2024-isa-5810-lab-2-homework/tweets_DM.json', 'r') as f:\n",
    "    for line in f:\n",
    "        data.append(json.loads(line))\n",
    " \n",
    "f.close()\n",
    "emotion = pd.read_csv('/kaggle/input/dm-2024-isa-5810-lab-2-homework/emotion.csv')\n",
    "data_identification = pd.read_csv('/kaggle/input/dm-2024-isa-5810-lab-2-homework/data_identification.csv')"
   ]
  },
  {
   "cell_type": "code",
   "execution_count": 3,
   "id": "e0b8b034",
   "metadata": {
    "execution": {
     "iopub.execute_input": "2024-12-04T08:14:31.757875Z",
     "iopub.status.busy": "2024-12-04T08:14:31.757537Z",
     "iopub.status.idle": "2024-12-04T08:14:44.944845Z",
     "shell.execute_reply": "2024-12-04T08:14:44.943957Z"
    },
    "papermill": {
     "duration": 13.193508,
     "end_time": "2024-12-04T08:14:44.947060",
     "exception": false,
     "start_time": "2024-12-04T08:14:31.753552",
     "status": "completed"
    },
    "tags": []
   },
   "outputs": [],
   "source": [
    "# Get 'train' data\n",
    "df = pd.DataFrame(data)\n",
    "_source = df['_source'].apply(lambda x: x['tweet'])\n",
    "df = pd.DataFrame({\n",
    "    'tweet_id': _source.apply(lambda x: x['tweet_id']),\n",
    "    'hashtags': _source.apply(lambda x: x['hashtags']),\n",
    "    'text': _source.apply(lambda x: x['text']),\n",
    "})\n",
    "df = df.merge(data_identification, on='tweet_id', how='left')\n",
    "train_data = df[df['identification'] == 'train']\n",
    "test_data = df[df['identification'] == 'test']\n",
    "\n",
    "train_data = train_data.merge(emotion, on='tweet_id', how='left') # Combine emotion \n",
    "train_data.drop_duplicates(subset=['text'], keep=False, inplace=True) # Remove duplication"
   ]
  },
  {
   "cell_type": "code",
   "execution_count": 4,
   "id": "b3032fe8",
   "metadata": {
    "execution": {
     "iopub.execute_input": "2024-12-04T08:14:44.955142Z",
     "iopub.status.busy": "2024-12-04T08:14:44.954240Z",
     "iopub.status.idle": "2024-12-04T08:14:45.646356Z",
     "shell.execute_reply": "2024-12-04T08:14:45.645453Z"
    },
    "papermill": {
     "duration": 0.698341,
     "end_time": "2024-12-04T08:14:45.648642",
     "exception": false,
     "start_time": "2024-12-04T08:14:44.950301",
     "status": "completed"
    },
    "tags": []
   },
   "outputs": [],
   "source": [
    "# Split data\n",
    "train_data_sample = train_data.sample(frac=0.2) # Get sample\n",
    "train_data_sample\n",
    "\n",
    "#X_train_data = X_train_data['text'] + ' ' + X_train_data['hashtags'].apply(lambda x: ' '.join(x)) # Combine text and hashtags \n",
    "y_train_data = train_data_sample['emotion']\n",
    "X_train_data = train_data_sample['text']\n",
    "\n",
    "X_train, X_test, y_train, y_test = train_test_split(\n",
    "    X_train_data, y_train_data, test_size=0.25, random_state=42, stratify=y_train_data\n",
    ")"
   ]
  },
  {
   "cell_type": "code",
   "execution_count": 5,
   "id": "c8ffc426",
   "metadata": {
    "execution": {
     "iopub.execute_input": "2024-12-04T08:14:45.656362Z",
     "iopub.status.busy": "2024-12-04T08:14:45.655754Z",
     "iopub.status.idle": "2024-12-04T08:14:53.403462Z",
     "shell.execute_reply": "2024-12-04T08:14:53.402587Z"
    },
    "papermill": {
     "duration": 7.753979,
     "end_time": "2024-12-04T08:14:53.405755",
     "exception": false,
     "start_time": "2024-12-04T08:14:45.651776",
     "status": "completed"
    },
    "tags": []
   },
   "outputs": [],
   "source": [
    "# TF-IDF\n",
    "tfidf = TfidfVectorizer(max_features=1000)\n",
    "X = tfidf.fit_transform(X_train).toarray()\n",
    "X_test = tfidf.transform(X_test)"
   ]
  },
  {
   "cell_type": "code",
   "execution_count": 6,
   "id": "e829e286",
   "metadata": {
    "execution": {
     "iopub.execute_input": "2024-12-04T08:14:53.413519Z",
     "iopub.status.busy": "2024-12-04T08:14:53.412674Z",
     "iopub.status.idle": "2024-12-04T08:14:53.470095Z",
     "shell.execute_reply": "2024-12-04T08:14:53.469304Z"
    },
    "papermill": {
     "duration": 0.063135,
     "end_time": "2024-12-04T08:14:53.472042",
     "exception": false,
     "start_time": "2024-12-04T08:14:53.408907",
     "status": "completed"
    },
    "tags": []
   },
   "outputs": [],
   "source": [
    "# Encoding label\n",
    "le = LabelEncoder()\n",
    "y_train = le.fit_transform(y_train)\n",
    "y_test = le.transform(y_test)"
   ]
  },
  {
   "cell_type": "code",
   "execution_count": 7,
   "id": "25b04c12",
   "metadata": {
    "execution": {
     "iopub.execute_input": "2024-12-04T08:14:53.479632Z",
     "iopub.status.busy": "2024-12-04T08:14:53.478845Z",
     "iopub.status.idle": "2024-12-04T08:23:46.475520Z",
     "shell.execute_reply": "2024-12-04T08:23:46.474458Z"
    },
    "papermill": {
     "duration": 533.002849,
     "end_time": "2024-12-04T08:23:46.477934",
     "exception": false,
     "start_time": "2024-12-04T08:14:53.475085",
     "status": "completed"
    },
    "tags": []
   },
   "outputs": [],
   "source": [
    "# Random forest\n",
    "clf = RandomForestClassifier()\n",
    "clf.fit(X, y_train)\n",
    "model = clf"
   ]
  },
  {
   "cell_type": "code",
   "execution_count": 8,
   "id": "0f5e5518",
   "metadata": {
    "execution": {
     "iopub.execute_input": "2024-12-04T08:23:46.485354Z",
     "iopub.status.busy": "2024-12-04T08:23:46.485029Z",
     "iopub.status.idle": "2024-12-04T08:23:52.643110Z",
     "shell.execute_reply": "2024-12-04T08:23:52.641976Z"
    },
    "papermill": {
     "duration": 6.164965,
     "end_time": "2024-12-04T08:23:52.646170",
     "exception": false,
     "start_time": "2024-12-04T08:23:46.481205",
     "status": "completed"
    },
    "tags": []
   },
   "outputs": [
    {
     "data": {
      "text/plain": [
       "0.49291323369077683"
      ]
     },
     "execution_count": 8,
     "metadata": {},
     "output_type": "execute_result"
    }
   ],
   "source": [
    "# Predict and evaluation\n",
    "y_pred = model.predict(X_test)\n",
    "accuracy_score(y_test, y_pred)"
   ]
  },
  {
   "cell_type": "code",
   "execution_count": 9,
   "id": "da8fe96c",
   "metadata": {
    "execution": {
     "iopub.execute_input": "2024-12-04T08:23:52.654363Z",
     "iopub.status.busy": "2024-12-04T08:23:52.654004Z",
     "iopub.status.idle": "2024-12-04T08:23:52.901135Z",
     "shell.execute_reply": "2024-12-04T08:23:52.900134Z"
    },
    "papermill": {
     "duration": 0.253581,
     "end_time": "2024-12-04T08:23:52.903281",
     "exception": false,
     "start_time": "2024-12-04T08:23:52.649700",
     "status": "completed"
    },
    "tags": []
   },
   "outputs": [
    {
     "data": {
      "text/html": [
       "<div>\n",
       "<style scoped>\n",
       "    .dataframe tbody tr th:only-of-type {\n",
       "        vertical-align: middle;\n",
       "    }\n",
       "\n",
       "    .dataframe tbody tr th {\n",
       "        vertical-align: top;\n",
       "    }\n",
       "\n",
       "    .dataframe thead th {\n",
       "        text-align: right;\n",
       "    }\n",
       "</style>\n",
       "<table border=\"1\" class=\"dataframe\">\n",
       "  <thead>\n",
       "    <tr style=\"text-align: right;\">\n",
       "      <th></th>\n",
       "      <th>tweet_id</th>\n",
       "      <th>hashtags</th>\n",
       "      <th>text</th>\n",
       "      <th>identification</th>\n",
       "    </tr>\n",
       "  </thead>\n",
       "  <tbody>\n",
       "    <tr>\n",
       "      <th>2</th>\n",
       "      <td>0x28b412</td>\n",
       "      <td>[bibleverse]</td>\n",
       "      <td>Confident of your obedience, I write to you, k...</td>\n",
       "      <td>test</td>\n",
       "    </tr>\n",
       "    <tr>\n",
       "      <th>4</th>\n",
       "      <td>0x2de201</td>\n",
       "      <td>[]</td>\n",
       "      <td>\"Trust is not the same as faith. A friend is s...</td>\n",
       "      <td>test</td>\n",
       "    </tr>\n",
       "    <tr>\n",
       "      <th>9</th>\n",
       "      <td>0x218443</td>\n",
       "      <td>[materialism, money, possessions]</td>\n",
       "      <td>When do you have enough ? When are you satisfi...</td>\n",
       "      <td>test</td>\n",
       "    </tr>\n",
       "    <tr>\n",
       "      <th>30</th>\n",
       "      <td>0x2939d5</td>\n",
       "      <td>[GodsPlan, GodsWork]</td>\n",
       "      <td>God woke you up, now chase the day #GodsPlan #...</td>\n",
       "      <td>test</td>\n",
       "    </tr>\n",
       "    <tr>\n",
       "      <th>33</th>\n",
       "      <td>0x26289a</td>\n",
       "      <td>[]</td>\n",
       "      <td>In these tough times, who do YOU turn to as yo...</td>\n",
       "      <td>test</td>\n",
       "    </tr>\n",
       "    <tr>\n",
       "      <th>...</th>\n",
       "      <td>...</td>\n",
       "      <td>...</td>\n",
       "      <td>...</td>\n",
       "      <td>...</td>\n",
       "    </tr>\n",
       "    <tr>\n",
       "      <th>1867525</th>\n",
       "      <td>0x2913b4</td>\n",
       "      <td>[]</td>\n",
       "      <td>\"For this is the message that ye heard from th...</td>\n",
       "      <td>test</td>\n",
       "    </tr>\n",
       "    <tr>\n",
       "      <th>1867529</th>\n",
       "      <td>0x2a980e</td>\n",
       "      <td>[]</td>\n",
       "      <td>\"There is a lad here, which hath five barley l...</td>\n",
       "      <td>test</td>\n",
       "    </tr>\n",
       "    <tr>\n",
       "      <th>1867530</th>\n",
       "      <td>0x316b80</td>\n",
       "      <td>[mixedfeeling, butimTHATperson]</td>\n",
       "      <td>When you buy the last 2 tickets remaining for ...</td>\n",
       "      <td>test</td>\n",
       "    </tr>\n",
       "    <tr>\n",
       "      <th>1867531</th>\n",
       "      <td>0x29d0cb</td>\n",
       "      <td>[]</td>\n",
       "      <td>I swear all this hard work gone pay off one da...</td>\n",
       "      <td>test</td>\n",
       "    </tr>\n",
       "    <tr>\n",
       "      <th>1867532</th>\n",
       "      <td>0x2a6a4f</td>\n",
       "      <td>[]</td>\n",
       "      <td>@Parcel2Go no card left when I wasn't in so I ...</td>\n",
       "      <td>test</td>\n",
       "    </tr>\n",
       "  </tbody>\n",
       "</table>\n",
       "<p>411972 rows × 4 columns</p>\n",
       "</div>"
      ],
      "text/plain": [
       "         tweet_id                           hashtags  \\\n",
       "2        0x28b412                       [bibleverse]   \n",
       "4        0x2de201                                 []   \n",
       "9        0x218443  [materialism, money, possessions]   \n",
       "30       0x2939d5               [GodsPlan, GodsWork]   \n",
       "33       0x26289a                                 []   \n",
       "...           ...                                ...   \n",
       "1867525  0x2913b4                                 []   \n",
       "1867529  0x2a980e                                 []   \n",
       "1867530  0x316b80    [mixedfeeling, butimTHATperson]   \n",
       "1867531  0x29d0cb                                 []   \n",
       "1867532  0x2a6a4f                                 []   \n",
       "\n",
       "                                                      text identification  \n",
       "2        Confident of your obedience, I write to you, k...           test  \n",
       "4        \"Trust is not the same as faith. A friend is s...           test  \n",
       "9        When do you have enough ? When are you satisfi...           test  \n",
       "30       God woke you up, now chase the day #GodsPlan #...           test  \n",
       "33       In these tough times, who do YOU turn to as yo...           test  \n",
       "...                                                    ...            ...  \n",
       "1867525  \"For this is the message that ye heard from th...           test  \n",
       "1867529  \"There is a lad here, which hath five barley l...           test  \n",
       "1867530  When you buy the last 2 tickets remaining for ...           test  \n",
       "1867531  I swear all this hard work gone pay off one da...           test  \n",
       "1867532  @Parcel2Go no card left when I wasn't in so I ...           test  \n",
       "\n",
       "[411972 rows x 4 columns]"
      ]
     },
     "execution_count": 9,
     "metadata": {},
     "output_type": "execute_result"
    }
   ],
   "source": [
    "test_data = df[df['identification'] == 'test'] # Get the test data from df\n",
    "test_data"
   ]
  },
  {
   "cell_type": "code",
   "execution_count": 10,
   "id": "ee541333",
   "metadata": {
    "execution": {
     "iopub.execute_input": "2024-12-04T08:23:52.911466Z",
     "iopub.status.busy": "2024-12-04T08:23:52.911090Z",
     "iopub.status.idle": "2024-12-04T08:23:53.311882Z",
     "shell.execute_reply": "2024-12-04T08:23:53.310887Z"
    },
    "papermill": {
     "duration": 0.407357,
     "end_time": "2024-12-04T08:23:53.314076",
     "exception": false,
     "start_time": "2024-12-04T08:23:52.906719",
     "status": "completed"
    },
    "tags": []
   },
   "outputs": [
    {
     "data": {
      "text/plain": [
       "2          Confident of your obedience, I write to you, k...\n",
       "4          \"Trust is not the same as faith. A friend is s...\n",
       "9          When do you have enough ? When are you satisfi...\n",
       "30         God woke you up, now chase the day #GodsPlan #...\n",
       "33         In these tough times, who do YOU turn to as yo...\n",
       "                                 ...                        \n",
       "1867525    \"For this is the message that ye heard from th...\n",
       "1867529    \"There is a lad here, which hath five barley l...\n",
       "1867530    When you buy the last 2 tickets remaining for ...\n",
       "1867531    I swear all this hard work gone pay off one da...\n",
       "1867532    @Parcel2Go no card left when I wasn't in so I ...\n",
       "Length: 411972, dtype: object"
      ]
     },
     "execution_count": 10,
     "metadata": {},
     "output_type": "execute_result"
    }
   ],
   "source": [
    "X_test_data = test_data.drop(['tweet_id', 'identification'], axis=1)\n",
    "X_test_data = X_test_data['text'] + ' ' + X_test_data['hashtags'].apply(lambda x: ' '.join(x))\n",
    "X_test_data"
   ]
  },
  {
   "cell_type": "code",
   "execution_count": 11,
   "id": "e4da27d6",
   "metadata": {
    "execution": {
     "iopub.execute_input": "2024-12-04T08:23:53.322527Z",
     "iopub.status.busy": "2024-12-04T08:23:53.322173Z",
     "iopub.status.idle": "2024-12-04T08:24:50.629048Z",
     "shell.execute_reply": "2024-12-04T08:24:50.627915Z"
    },
    "papermill": {
     "duration": 57.313954,
     "end_time": "2024-12-04T08:24:50.631643",
     "exception": false,
     "start_time": "2024-12-04T08:23:53.317689",
     "status": "completed"
    },
    "tags": []
   },
   "outputs": [],
   "source": [
    "X_test_data = tfidf.transform(X_test_data).toarray()\n",
    "y_test_pred = model.predict(X_test_data)\n",
    "y_test_pred = le.inverse_transform(y_test_pred) # Inverse predict labels back to adjective words"
   ]
  },
  {
   "cell_type": "code",
   "execution_count": 12,
   "id": "604879d8",
   "metadata": {
    "execution": {
     "iopub.execute_input": "2024-12-04T08:24:50.640620Z",
     "iopub.status.busy": "2024-12-04T08:24:50.639929Z",
     "iopub.status.idle": "2024-12-04T08:24:51.107721Z",
     "shell.execute_reply": "2024-12-04T08:24:51.106705Z"
    },
    "papermill": {
     "duration": 0.474668,
     "end_time": "2024-12-04T08:24:51.110092",
     "exception": false,
     "start_time": "2024-12-04T08:24:50.635424",
     "status": "completed"
    },
    "tags": []
   },
   "outputs": [],
   "source": [
    "submission = pd.DataFrame({\n",
    "    'id': test_data['tweet_id'],\n",
    "    'emotion': y_test_pred\n",
    "})\n",
    "submission.to_csv('/kaggle/working/submission.csv', index=False)"
   ]
  }
 ],
 "metadata": {
  "kaggle": {
   "accelerator": "none",
   "dataSources": [
    {
     "databundleVersionId": 9912598,
     "sourceId": 87232,
     "sourceType": "competition"
    },
    {
     "datasetId": 6218320,
     "sourceId": 10085683,
     "sourceType": "datasetVersion"
    }
   ],
   "dockerImageVersionId": 30804,
   "isGpuEnabled": false,
   "isInternetEnabled": true,
   "language": "python",
   "sourceType": "notebook"
  },
  "kernelspec": {
   "display_name": "Python 3",
   "language": "python",
   "name": "python3"
  },
  "language_info": {
   "codemirror_mode": {
    "name": "ipython",
    "version": 3
   },
   "file_extension": ".py",
   "mimetype": "text/x-python",
   "name": "python",
   "nbconvert_exporter": "python",
   "pygments_lexer": "ipython3",
   "version": "3.10.14"
  },
  "papermill": {
   "default_parameters": {},
   "duration": 659.708247,
   "end_time": "2024-12-04T08:24:54.434462",
   "environment_variables": {},
   "exception": null,
   "input_path": "__notebook__.ipynb",
   "output_path": "__notebook__.ipynb",
   "parameters": {},
   "start_time": "2024-12-04T08:13:54.726215",
   "version": "2.6.0"
  }
 },
 "nbformat": 4,
 "nbformat_minor": 5
}
