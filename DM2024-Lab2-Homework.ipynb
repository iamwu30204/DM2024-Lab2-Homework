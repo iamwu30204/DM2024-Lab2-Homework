{
 "cells": [
  {
   "cell_type": "markdown",
   "id": "4acbcb6a",
   "metadata": {
    "papermill": {
     "duration": 0.005088,
     "end_time": "2024-12-06T07:17:16.463204",
     "exception": false,
     "start_time": "2024-12-06T07:17:16.458116",
     "status": "completed"
    },
    "tags": []
   },
   "source": [
    "### Student Information\n",
    "Name:吳祁澤\n",
    "\n",
    "Student ID:109062311\n",
    "\n",
    "GitHub ID:iamwu30204\n",
    "\n",
    "Kaggle name:109062311\n",
    "\n",
    "Kaggle private scoreboard snapshot:"
   ]
  },
  {
   "cell_type": "markdown",
   "id": "fef2ccae",
   "metadata": {
    "papermill": {
     "duration": 0.003681,
     "end_time": "2024-12-06T07:17:16.470803",
     "exception": false,
     "start_time": "2024-12-06T07:17:16.467122",
     "status": "completed"
    },
    "tags": []
   },
   "source": [
    "### Instructions"
   ]
  },
  {
   "cell_type": "markdown",
   "id": "a616ffb2",
   "metadata": {
    "papermill": {
     "duration": 0.003444,
     "end_time": "2024-12-06T07:17:16.478381",
     "exception": false,
     "start_time": "2024-12-06T07:17:16.474937",
     "status": "completed"
    },
    "tags": []
   },
   "source": [
    "1. First: __This part is worth 30% of your grade.__ Do the **take home exercises** in the [DM2024-Lab2-master Repo](https://github.com/didiersalazar/DM2024-Lab2-Master). You may need to copy some cells from the Lab notebook to this notebook. \n",
    "\n",
    "\n",
    "2. Second: __This part is worth 30% of your grade.__ Participate in the in-class [Kaggle Competition](https://www.kaggle.com/competitions/dm-2024-isa-5810-lab-2-homework) regarding Emotion Recognition on Twitter by this link: https://www.kaggle.com/competitions/dm-2024-isa-5810-lab-2-homework. The scoring will be given according to your place in the Private Leaderboard ranking: \n",
    "    - **Bottom 40%**: Get 20% of the 30% available for this section.\n",
    "\n",
    "    - **Top 41% - 100%**: Get (0.6N + 1 - x) / (0.6N) * 10 + 20 points, where N is the total number of participants, and x is your rank. (ie. If there are 100 participants and you rank 3rd your score will be (0.6 * 100 + 1 - 3) / (0.6 * 100) * 10 + 20 = 29.67% out of 30%.)   \n",
    "    Submit your last submission **BEFORE the deadline (Nov. 26th, 11:59 pm, Tuesday)**. Make sure to take a screenshot of your position at the end of the competition and store it as '''pic0.png''' under the **img** folder of this repository and rerun the cell **Student Information**.\n",
    "    \n",
    "\n",
    "3. Third: __This part is worth 30% of your grade.__ A report of your work developing the model for the competition (You can use code and comment on it). This report should include what your preprocessing steps, the feature engineering steps and an explanation of your model. You can also mention different things you tried and insights you gained. \n",
    "\n",
    "\n",
    "4. Fourth: __This part is worth 10% of your grade.__ It's hard for us to follow if your code is messy :'(, so please **tidy up your notebook**.\n",
    "\n",
    "\n",
    "Upload your files to your repository then submit the link to it on the corresponding e-learn assignment.\n",
    "\n",
    "Make sure to commit and save your changes to your repository __BEFORE the deadline (Nov. 26th, 11:59 pm, Tuesday)__. "
   ]
  },
  {
   "cell_type": "code",
   "execution_count": 1,
   "id": "76fc6956",
   "metadata": {
    "_cell_guid": "b1076dfc-b9ad-4769-8c92-a6c4dae69d19",
    "_uuid": "8f2839f25d086af736a60e9eeb907d3b93b6e0e5",
    "execution": {
     "iopub.execute_input": "2024-12-06T07:17:16.487606Z",
     "iopub.status.busy": "2024-12-06T07:17:16.487201Z",
     "iopub.status.idle": "2024-12-06T07:17:19.829857Z",
     "shell.execute_reply": "2024-12-06T07:17:19.828690Z"
    },
    "papermill": {
     "duration": 3.350083,
     "end_time": "2024-12-06T07:17:19.832236",
     "exception": false,
     "start_time": "2024-12-06T07:17:16.482153",
     "status": "completed"
    },
    "tags": []
   },
   "outputs": [],
   "source": [
    "### Begin Assignment Here\n",
    "import json\n",
    "import pandas as pd\n",
    "import numpy as np\n",
    "import nltk\n",
    "import matplotlib.pyplot as plt\n",
    "from collections import Counter\n",
    "\n",
    "from sklearn.feature_extraction.text import TfidfVectorizer\n",
    "from sklearn.model_selection import train_test_split\n",
    "from sklearn.preprocessing import LabelEncoder\n",
    "from sklearn.linear_model import LogisticRegression\n",
    "from sklearn.ensemble import RandomForestClassifier\n",
    "from sklearn.metrics import classification_report\n",
    "from sklearn.metrics import accuracy_score"
   ]
  },
  {
   "cell_type": "code",
   "execution_count": 2,
   "id": "472756d8",
   "metadata": {
    "execution": {
     "iopub.execute_input": "2024-12-06T07:17:19.841576Z",
     "iopub.status.busy": "2024-12-06T07:17:19.841055Z",
     "iopub.status.idle": "2024-12-06T07:17:57.033065Z",
     "shell.execute_reply": "2024-12-06T07:17:57.032045Z"
    },
    "papermill": {
     "duration": 37.199541,
     "end_time": "2024-12-06T07:17:57.035665",
     "exception": false,
     "start_time": "2024-12-06T07:17:19.836124",
     "status": "completed"
    },
    "tags": []
   },
   "outputs": [],
   "source": [
    "# Load data\n",
    "data = []\n",
    "with open('/kaggle/input/dm-2024-isa-5810-lab-2-homework/tweets_DM.json', 'r') as f:\n",
    "    for line in f:\n",
    "        data.append(json.loads(line))\n",
    " \n",
    "f.close()\n",
    "emotion = pd.read_csv('/kaggle/input/dm-2024-isa-5810-lab-2-homework/emotion.csv')\n",
    "data_identification = pd.read_csv('/kaggle/input/dm-2024-isa-5810-lab-2-homework/data_identification.csv')"
   ]
  },
  {
   "cell_type": "code",
   "execution_count": 3,
   "id": "76b4e563",
   "metadata": {
    "execution": {
     "iopub.execute_input": "2024-12-06T07:17:57.044775Z",
     "iopub.status.busy": "2024-12-06T07:17:57.044382Z",
     "iopub.status.idle": "2024-12-06T07:18:11.341644Z",
     "shell.execute_reply": "2024-12-06T07:18:11.340527Z"
    },
    "papermill": {
     "duration": 14.304529,
     "end_time": "2024-12-06T07:18:11.344085",
     "exception": false,
     "start_time": "2024-12-06T07:17:57.039556",
     "status": "completed"
    },
    "tags": []
   },
   "outputs": [],
   "source": [
    "# Get 'train' data\n",
    "df = pd.DataFrame(data)\n",
    "_source = df['_source'].apply(lambda x: x['tweet'])\n",
    "df = pd.DataFrame({\n",
    "    'tweet_id': _source.apply(lambda x: x['tweet_id']),\n",
    "    'hashtags': _source.apply(lambda x: x['hashtags']),\n",
    "    'text': _source.apply(lambda x: x['text']),\n",
    "})\n",
    "df = df.merge(data_identification, on='tweet_id', how='left')\n",
    "train_data = df[df['identification'] == 'train']\n",
    "test_data = df[df['identification'] == 'test']\n",
    "\n",
    "train_data = train_data.merge(emotion, on='tweet_id', how='left') # Combine emotion \n",
    "train_data.drop_duplicates(subset=['text'], keep=False, inplace=True) # Remove duplication"
   ]
  },
  {
   "cell_type": "code",
   "execution_count": 4,
   "id": "d6255af0",
   "metadata": {
    "execution": {
     "iopub.execute_input": "2024-12-06T07:18:11.353832Z",
     "iopub.status.busy": "2024-12-06T07:18:11.353500Z",
     "iopub.status.idle": "2024-12-06T07:18:12.121343Z",
     "shell.execute_reply": "2024-12-06T07:18:12.120369Z"
    },
    "papermill": {
     "duration": 0.776085,
     "end_time": "2024-12-06T07:18:12.123809",
     "exception": false,
     "start_time": "2024-12-06T07:18:11.347724",
     "status": "completed"
    },
    "tags": []
   },
   "outputs": [],
   "source": [
    "# Split data\n",
    "train_data_sample = train_data.sample(frac=0.2) # Get sample\n",
    "train_data_sample\n",
    "\n",
    "#X_train_data = X_train_data['text'] + ' ' + X_train_data['hashtags'].apply(lambda x: ' '.join(x)) # Combine text and hashtags \n",
    "y_train_data = train_data_sample['emotion']\n",
    "X_train_data = train_data_sample['text']\n",
    "\n",
    "X_train, X_test, y_train, y_test = train_test_split(\n",
    "    X_train_data, y_train_data, test_size=0.25, random_state=42, stratify=y_train_data\n",
    ")"
   ]
  },
  {
   "cell_type": "code",
   "execution_count": 5,
   "id": "e9231f01",
   "metadata": {
    "execution": {
     "iopub.execute_input": "2024-12-06T07:18:12.132441Z",
     "iopub.status.busy": "2024-12-06T07:18:12.132081Z",
     "iopub.status.idle": "2024-12-06T07:18:20.587229Z",
     "shell.execute_reply": "2024-12-06T07:18:20.586145Z"
    },
    "papermill": {
     "duration": 8.462124,
     "end_time": "2024-12-06T07:18:20.589626",
     "exception": false,
     "start_time": "2024-12-06T07:18:12.127502",
     "status": "completed"
    },
    "tags": []
   },
   "outputs": [],
   "source": [
    "# TF-IDF\n",
    "tfidf = TfidfVectorizer(max_features=1000)\n",
    "X = tfidf.fit_transform(X_train).toarray()\n",
    "X_test = tfidf.transform(X_test)"
   ]
  },
  {
   "cell_type": "code",
   "execution_count": 6,
   "id": "0b3c4da8",
   "metadata": {
    "execution": {
     "iopub.execute_input": "2024-12-06T07:18:20.598633Z",
     "iopub.status.busy": "2024-12-06T07:18:20.597786Z",
     "iopub.status.idle": "2024-12-06T07:18:20.655777Z",
     "shell.execute_reply": "2024-12-06T07:18:20.654733Z"
    },
    "papermill": {
     "duration": 0.064753,
     "end_time": "2024-12-06T07:18:20.657988",
     "exception": false,
     "start_time": "2024-12-06T07:18:20.593235",
     "status": "completed"
    },
    "tags": []
   },
   "outputs": [],
   "source": [
    "# Encoding label\n",
    "le = LabelEncoder()\n",
    "y_train = le.fit_transform(y_train)\n",
    "y_test = le.transform(y_test)"
   ]
  },
  {
   "cell_type": "code",
   "execution_count": 7,
   "id": "75ccc206",
   "metadata": {
    "execution": {
     "iopub.execute_input": "2024-12-06T07:18:20.666824Z",
     "iopub.status.busy": "2024-12-06T07:18:20.665998Z",
     "iopub.status.idle": "2024-12-06T07:27:35.216638Z",
     "shell.execute_reply": "2024-12-06T07:27:35.215729Z"
    },
    "papermill": {
     "duration": 554.557458,
     "end_time": "2024-12-06T07:27:35.219112",
     "exception": false,
     "start_time": "2024-12-06T07:18:20.661654",
     "status": "completed"
    },
    "tags": []
   },
   "outputs": [],
   "source": [
    "# Random forest\n",
    "clf = RandomForestClassifier()\n",
    "clf.fit(X, y_train)\n",
    "model = clf"
   ]
  },
  {
   "cell_type": "code",
   "execution_count": 8,
   "id": "2d04a7f6",
   "metadata": {
    "execution": {
     "iopub.execute_input": "2024-12-06T07:27:35.227726Z",
     "iopub.status.busy": "2024-12-06T07:27:35.227298Z",
     "iopub.status.idle": "2024-12-06T07:27:41.698344Z",
     "shell.execute_reply": "2024-12-06T07:27:41.697302Z"
    },
    "papermill": {
     "duration": 6.477598,
     "end_time": "2024-12-06T07:27:41.700492",
     "exception": false,
     "start_time": "2024-12-06T07:27:35.222894",
     "status": "completed"
    },
    "tags": []
   },
   "outputs": [
    {
     "data": {
      "text/plain": [
       "0.49795056514718666"
      ]
     },
     "execution_count": 8,
     "metadata": {},
     "output_type": "execute_result"
    }
   ],
   "source": [
    "# Predict and evaluation\n",
    "y_pred = model.predict(X_test)\n",
    "accuracy_score(y_test, y_pred)"
   ]
  },
  {
   "cell_type": "code",
   "execution_count": 9,
   "id": "0d943839",
   "metadata": {
    "execution": {
     "iopub.execute_input": "2024-12-06T07:27:41.709233Z",
     "iopub.status.busy": "2024-12-06T07:27:41.708888Z",
     "iopub.status.idle": "2024-12-06T07:27:41.996698Z",
     "shell.execute_reply": "2024-12-06T07:27:41.995647Z"
    },
    "papermill": {
     "duration": 0.2945,
     "end_time": "2024-12-06T07:27:41.998745",
     "exception": false,
     "start_time": "2024-12-06T07:27:41.704245",
     "status": "completed"
    },
    "tags": []
   },
   "outputs": [
    {
     "data": {
      "text/html": [
       "<div>\n",
       "<style scoped>\n",
       "    .dataframe tbody tr th:only-of-type {\n",
       "        vertical-align: middle;\n",
       "    }\n",
       "\n",
       "    .dataframe tbody tr th {\n",
       "        vertical-align: top;\n",
       "    }\n",
       "\n",
       "    .dataframe thead th {\n",
       "        text-align: right;\n",
       "    }\n",
       "</style>\n",
       "<table border=\"1\" class=\"dataframe\">\n",
       "  <thead>\n",
       "    <tr style=\"text-align: right;\">\n",
       "      <th></th>\n",
       "      <th>tweet_id</th>\n",
       "      <th>hashtags</th>\n",
       "      <th>text</th>\n",
       "      <th>identification</th>\n",
       "    </tr>\n",
       "  </thead>\n",
       "  <tbody>\n",
       "    <tr>\n",
       "      <th>2</th>\n",
       "      <td>0x28b412</td>\n",
       "      <td>[bibleverse]</td>\n",
       "      <td>Confident of your obedience, I write to you, k...</td>\n",
       "      <td>test</td>\n",
       "    </tr>\n",
       "    <tr>\n",
       "      <th>4</th>\n",
       "      <td>0x2de201</td>\n",
       "      <td>[]</td>\n",
       "      <td>\"Trust is not the same as faith. A friend is s...</td>\n",
       "      <td>test</td>\n",
       "    </tr>\n",
       "    <tr>\n",
       "      <th>9</th>\n",
       "      <td>0x218443</td>\n",
       "      <td>[materialism, money, possessions]</td>\n",
       "      <td>When do you have enough ? When are you satisfi...</td>\n",
       "      <td>test</td>\n",
       "    </tr>\n",
       "    <tr>\n",
       "      <th>30</th>\n",
       "      <td>0x2939d5</td>\n",
       "      <td>[GodsPlan, GodsWork]</td>\n",
       "      <td>God woke you up, now chase the day #GodsPlan #...</td>\n",
       "      <td>test</td>\n",
       "    </tr>\n",
       "    <tr>\n",
       "      <th>33</th>\n",
       "      <td>0x26289a</td>\n",
       "      <td>[]</td>\n",
       "      <td>In these tough times, who do YOU turn to as yo...</td>\n",
       "      <td>test</td>\n",
       "    </tr>\n",
       "    <tr>\n",
       "      <th>...</th>\n",
       "      <td>...</td>\n",
       "      <td>...</td>\n",
       "      <td>...</td>\n",
       "      <td>...</td>\n",
       "    </tr>\n",
       "    <tr>\n",
       "      <th>1867525</th>\n",
       "      <td>0x2913b4</td>\n",
       "      <td>[]</td>\n",
       "      <td>\"For this is the message that ye heard from th...</td>\n",
       "      <td>test</td>\n",
       "    </tr>\n",
       "    <tr>\n",
       "      <th>1867529</th>\n",
       "      <td>0x2a980e</td>\n",
       "      <td>[]</td>\n",
       "      <td>\"There is a lad here, which hath five barley l...</td>\n",
       "      <td>test</td>\n",
       "    </tr>\n",
       "    <tr>\n",
       "      <th>1867530</th>\n",
       "      <td>0x316b80</td>\n",
       "      <td>[mixedfeeling, butimTHATperson]</td>\n",
       "      <td>When you buy the last 2 tickets remaining for ...</td>\n",
       "      <td>test</td>\n",
       "    </tr>\n",
       "    <tr>\n",
       "      <th>1867531</th>\n",
       "      <td>0x29d0cb</td>\n",
       "      <td>[]</td>\n",
       "      <td>I swear all this hard work gone pay off one da...</td>\n",
       "      <td>test</td>\n",
       "    </tr>\n",
       "    <tr>\n",
       "      <th>1867532</th>\n",
       "      <td>0x2a6a4f</td>\n",
       "      <td>[]</td>\n",
       "      <td>@Parcel2Go no card left when I wasn't in so I ...</td>\n",
       "      <td>test</td>\n",
       "    </tr>\n",
       "  </tbody>\n",
       "</table>\n",
       "<p>411972 rows × 4 columns</p>\n",
       "</div>"
      ],
      "text/plain": [
       "         tweet_id                           hashtags  \\\n",
       "2        0x28b412                       [bibleverse]   \n",
       "4        0x2de201                                 []   \n",
       "9        0x218443  [materialism, money, possessions]   \n",
       "30       0x2939d5               [GodsPlan, GodsWork]   \n",
       "33       0x26289a                                 []   \n",
       "...           ...                                ...   \n",
       "1867525  0x2913b4                                 []   \n",
       "1867529  0x2a980e                                 []   \n",
       "1867530  0x316b80    [mixedfeeling, butimTHATperson]   \n",
       "1867531  0x29d0cb                                 []   \n",
       "1867532  0x2a6a4f                                 []   \n",
       "\n",
       "                                                      text identification  \n",
       "2        Confident of your obedience, I write to you, k...           test  \n",
       "4        \"Trust is not the same as faith. A friend is s...           test  \n",
       "9        When do you have enough ? When are you satisfi...           test  \n",
       "30       God woke you up, now chase the day #GodsPlan #...           test  \n",
       "33       In these tough times, who do YOU turn to as yo...           test  \n",
       "...                                                    ...            ...  \n",
       "1867525  \"For this is the message that ye heard from th...           test  \n",
       "1867529  \"There is a lad here, which hath five barley l...           test  \n",
       "1867530  When you buy the last 2 tickets remaining for ...           test  \n",
       "1867531  I swear all this hard work gone pay off one da...           test  \n",
       "1867532  @Parcel2Go no card left when I wasn't in so I ...           test  \n",
       "\n",
       "[411972 rows x 4 columns]"
      ]
     },
     "execution_count": 9,
     "metadata": {},
     "output_type": "execute_result"
    }
   ],
   "source": [
    "test_data = df[df['identification'] == 'test'] # Get the test data from df\n",
    "test_data"
   ]
  },
  {
   "cell_type": "code",
   "execution_count": 10,
   "id": "3ee756aa",
   "metadata": {
    "execution": {
     "iopub.execute_input": "2024-12-06T07:27:42.007876Z",
     "iopub.status.busy": "2024-12-06T07:27:42.007520Z",
     "iopub.status.idle": "2024-12-06T07:27:42.431489Z",
     "shell.execute_reply": "2024-12-06T07:27:42.430463Z"
    },
    "papermill": {
     "duration": 0.430769,
     "end_time": "2024-12-06T07:27:42.433430",
     "exception": false,
     "start_time": "2024-12-06T07:27:42.002661",
     "status": "completed"
    },
    "tags": []
   },
   "outputs": [
    {
     "data": {
      "text/plain": [
       "2          Confident of your obedience, I write to you, k...\n",
       "4          \"Trust is not the same as faith. A friend is s...\n",
       "9          When do you have enough ? When are you satisfi...\n",
       "30         God woke you up, now chase the day #GodsPlan #...\n",
       "33         In these tough times, who do YOU turn to as yo...\n",
       "                                 ...                        \n",
       "1867525    \"For this is the message that ye heard from th...\n",
       "1867529    \"There is a lad here, which hath five barley l...\n",
       "1867530    When you buy the last 2 tickets remaining for ...\n",
       "1867531    I swear all this hard work gone pay off one da...\n",
       "1867532    @Parcel2Go no card left when I wasn't in so I ...\n",
       "Length: 411972, dtype: object"
      ]
     },
     "execution_count": 10,
     "metadata": {},
     "output_type": "execute_result"
    }
   ],
   "source": [
    "X_test_data = test_data.drop(['tweet_id', 'identification'], axis=1)\n",
    "X_test_data = X_test_data['text'] + ' ' + X_test_data['hashtags'].apply(lambda x: ' '.join(x))\n",
    "X_test_data"
   ]
  },
  {
   "cell_type": "code",
   "execution_count": 11,
   "id": "055695eb",
   "metadata": {
    "execution": {
     "iopub.execute_input": "2024-12-06T07:27:42.442946Z",
     "iopub.status.busy": "2024-12-06T07:27:42.442623Z",
     "iopub.status.idle": "2024-12-06T07:28:43.753607Z",
     "shell.execute_reply": "2024-12-06T07:28:43.752467Z"
    },
    "papermill": {
     "duration": 61.318529,
     "end_time": "2024-12-06T07:28:43.756216",
     "exception": false,
     "start_time": "2024-12-06T07:27:42.437687",
     "status": "completed"
    },
    "tags": []
   },
   "outputs": [],
   "source": [
    "X_test_data = tfidf.transform(X_test_data).toarray()\n",
    "y_test_pred = model.predict(X_test_data)\n",
    "y_test_pred = le.inverse_transform(y_test_pred) # Inverse predict labels back to adjective words"
   ]
  },
  {
   "cell_type": "code",
   "execution_count": 12,
   "id": "151f2f72",
   "metadata": {
    "execution": {
     "iopub.execute_input": "2024-12-06T07:28:43.766820Z",
     "iopub.status.busy": "2024-12-06T07:28:43.765776Z",
     "iopub.status.idle": "2024-12-06T07:28:44.264850Z",
     "shell.execute_reply": "2024-12-06T07:28:44.263781Z"
    },
    "papermill": {
     "duration": 0.506627,
     "end_time": "2024-12-06T07:28:44.267319",
     "exception": false,
     "start_time": "2024-12-06T07:28:43.760692",
     "status": "completed"
    },
    "tags": []
   },
   "outputs": [],
   "source": [
    "submission = pd.DataFrame({\n",
    "    'id': test_data['tweet_id'],\n",
    "    'emotion': y_test_pred\n",
    "})\n",
    "submission.to_csv('/kaggle/working/submission.csv', index=False)"
   ]
  }
 ],
 "metadata": {
  "kaggle": {
   "accelerator": "none",
   "dataSources": [
    {
     "databundleVersionId": 9912598,
     "sourceId": 87232,
     "sourceType": "competition"
    },
    {
     "datasetId": 6218320,
     "sourceId": 10085683,
     "sourceType": "datasetVersion"
    }
   ],
   "dockerImageVersionId": 30804,
   "isGpuEnabled": false,
   "isInternetEnabled": true,
   "language": "python",
   "sourceType": "notebook"
  },
  "kernelspec": {
   "display_name": "Python 3",
   "language": "python",
   "name": "python3"
  },
  "language_info": {
   "codemirror_mode": {
    "name": "ipython",
    "version": 3
   },
   "file_extension": ".py",
   "mimetype": "text/x-python",
   "name": "python",
   "nbconvert_exporter": "python",
   "pygments_lexer": "ipython3",
   "version": "3.10.14"
  },
  "papermill": {
   "default_parameters": {},
   "duration": 694.410588,
   "end_time": "2024-12-06T07:28:48.098314",
   "environment_variables": {},
   "exception": null,
   "input_path": "__notebook__.ipynb",
   "output_path": "__notebook__.ipynb",
   "parameters": {},
   "start_time": "2024-12-06T07:17:13.687726",
   "version": "2.6.0"
  }
 },
 "nbformat": 4,
 "nbformat_minor": 5
}
